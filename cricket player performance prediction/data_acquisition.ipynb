{
 "cells": [
  {
   "cell_type": "code",
   "execution_count": 6,
   "id": "4e72106c",
   "metadata": {},
   "outputs": [],
   "source": [
    "import pandas as pd\n",
    "\n",
    "# Load the files\n",
    "matches_df = pd.read_csv('matches.csv')\n",
    "deliveries_df = pd.read_csv('deliveries.csv')\n",
    "\n",
    "# Merge the datasets based on match_id\n",
    "merged_df = pd.merge(matches_df, deliveries_df, left_on='id', right_on='match_id')\n",
    "\n",
    "# Select relevant columns\n",
    "selected_columns = ['match_id', 'venue', 'inning', 'batting_team', 'bowling_team', 'batsman_runs', 'batsman']\n",
    "merged_df = merged_df[selected_columns]\n",
    "\n",
    "# Calculate total runs scored by each batsman in a match\n",
    "total_runs_df = merged_df.groupby(['match_id', 'batsman']).agg({\n",
    "    'venue': 'first',\n",
    "    'inning': 'first',\n",
    "    'batting_team': 'first',\n",
    "    'bowling_team': 'first',\n",
    "    'batsman_runs': 'sum'\n",
    "}).reset_index()\n",
    "total_runs_df.rename(columns={'batsman_runs': 'total_runs'}, inplace=True)\n",
    "\n",
    "# Calculate number of 4s and 6s\n",
    "fours_sixes_df = merged_df.groupby(['match_id', 'batsman']).agg({\n",
    "    'batsman_runs': lambda x: (x == 4).sum()\n",
    "}).reset_index()\n",
    "fours_sixes_df.rename(columns={'batsman_runs': 'no_of_4s'}, inplace=True)\n",
    "\n",
    "sixes_df = merged_df.groupby(['match_id', 'batsman']).agg({\n",
    "    'batsman_runs': lambda x: (x == 6).sum()\n",
    "}).reset_index()\n",
    "sixes_df.rename(columns={'batsman_runs': 'no_of_6s'}, inplace=True)\n",
    "\n",
    "# Merge total runs, fours, and sixes dataframes\n",
    "batsmen_runs_df = pd.merge(total_runs_df, fours_sixes_df, on=['match_id', 'batsman'], how='left')\n",
    "batsmen_runs_df = pd.merge(batsmen_runs_df, sixes_df, on=['match_id', 'batsman'], how='left')\n",
    "\n",
    "# Save the resulting dataframe as a separate CSV file\n",
    "batsmen_runs_df.to_csv('batsmen_runs.csv', index=False)\n"
   ]
  },
  {
   "cell_type": "code",
   "execution_count": 5,
   "id": "e5e7c1af",
   "metadata": {},
   "outputs": [],
   "source": [
    "import pandas as pd\n",
    "\n",
    "# Load the files\n",
    "matches_df = pd.read_csv('matches.csv')\n",
    "deliveries_df = pd.read_csv('deliveries.csv')\n",
    "\n",
    "# Merge the datasets based on match_id\n",
    "merged_df = pd.merge(matches_df, deliveries_df, left_on='id', right_on='match_id')\n",
    "\n",
    "# Select relevant columns\n",
    "selected_columns = ['match_id', 'venue', 'inning', 'batting_team', 'bowling_team', 'player_dismissed', 'bowler']\n",
    "merged_df = merged_df[selected_columns]\n",
    "\n",
    "# Calculate total wickets taken by each bowler in a match\n",
    "total_wickets_df = merged_df.groupby(['match_id', 'venue', 'batting_team', 'bowling_team', 'inning', 'bowler']).apply(lambda x: (x['player_dismissed'].notnull()).sum()).reset_index(name='wickets')\n",
    "\n",
    "# Save the resulting dataframe as a separate CSV file\n",
    "total_wickets_df.to_csv('bowlers_wickets.csv', index=False)\n"
   ]
  },
  {
   "cell_type": "code",
   "execution_count": null,
   "id": "af1aeb0d",
   "metadata": {},
   "outputs": [],
   "source": []
  }
 ],
 "metadata": {
  "kernelspec": {
   "display_name": "Python 3 (ipykernel)",
   "language": "python",
   "name": "python3"
  },
  "language_info": {
   "codemirror_mode": {
    "name": "ipython",
    "version": 3
   },
   "file_extension": ".py",
   "mimetype": "text/x-python",
   "name": "python",
   "nbconvert_exporter": "python",
   "pygments_lexer": "ipython3",
   "version": "3.9.13"
  }
 },
 "nbformat": 4,
 "nbformat_minor": 5
}
